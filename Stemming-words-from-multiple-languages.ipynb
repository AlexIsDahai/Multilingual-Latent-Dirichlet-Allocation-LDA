{
 "cells": [
  {
   "cell_type": "code",
   "execution_count": 18,
   "metadata": {},
   "outputs": [
    {
     "name": "stdout",
     "output_type": "stream",
     "text": [
      "['danish', 'dutch', 'english', 'finnish', 'french', 'german', 'hungarian', 'italian', 'norwegian', 'porter', 'portuguese', 'romanian', 'russian', 'spanish', 'swedish', 'turkish']\n",
      "cod\n",
      "['cod', 'cod']\n",
      "['cod', b'cod']\n",
      "10000\n",
      "1000\n"
     ]
    }
   ],
   "source": [
    "# !sudo -H pip3 install pystemmer\n",
    "\n",
    "# The following content is derived from the quickstart guide here: \n",
    "# https://github.com/snowballstem/pystemmer/blob/master/docs/quickstart_python3.txt\n",
    "# Which is licensed under the MIT License and contains traces of the 3-Clause BSD License:\n",
    "# https://github.com/snowballstem/pystemmer/blob/master/LICENSE\n",
    "\n",
    "# For more information on the inner workings of the algorithm, refer to: \n",
    "# http://snowball.tartarus.org/algorithms/french/stemmer.html\n",
    "\n",
    "\n",
    "# Quickstart\n",
    "# This is a very brief introduction to the use of PyStemmer.\n",
    "# First, import the library:\n",
    "\n",
    "import Stemmer\n",
    "\n",
    "# Just for show, we'll display a list of the available stemming algorithms:\n",
    "\n",
    "print(Stemmer.algorithms())\n",
    "# ['danish', 'dutch', 'english', 'finnish', 'french', 'german', 'hungarian', 'italian', 'norwegian', 'porter', 'portuguese', 'romanian', 'russian', 'spanish', 'swedish', 'turkish']\n",
    "\n",
    "# Now, we'll get an instance of the french stemming algorithm:\n",
    "stemmer = Stemmer.Stemmer('french')\n",
    "\n",
    "# Stem a single word:\n",
    "print(stemmer.stemWord('coder'))\n",
    "# cod\n",
    "\n",
    "# Stem a list of words:\n",
    "print(stemmer.stemWords(['coder', 'codera']))\n",
    "# ['cod', 'cod']\n",
    "\n",
    "# Strings which are supplied are assumed to be unicode.\n",
    "# We can use UTF-8 encoded input, too:\n",
    "print(stemmer.stemWords(['coder', b'codera']))\n",
    "# ['cod', b'cod']\n",
    "\n",
    "# Each instance of the stemming algorithms uses a cache to speed up processing of\n",
    "# common words.  By default, the cache holds 10000 words, but this may be\n",
    "# modified.  The cache may be disabled entirely by setting the cache size to 0:\n",
    "print(stemmer.maxCacheSize)\n",
    "# 10000\n",
    "\n",
    "stemmer.maxCacheSize = 1000\n",
    "print(stemmer.maxCacheSize)\n",
    "# 1000"
   ]
  }
 ],
 "metadata": {
  "kernelspec": {
   "display_name": "Python 3",
   "language": "python",
   "name": "python3"
  },
  "language_info": {
   "codemirror_mode": {
    "name": "ipython",
    "version": 3
   },
   "file_extension": ".py",
   "mimetype": "text/x-python",
   "name": "python",
   "nbconvert_exporter": "python",
   "pygments_lexer": "ipython3",
   "version": "3.6.6"
  }
 },
 "nbformat": 4,
 "nbformat_minor": 2
}
